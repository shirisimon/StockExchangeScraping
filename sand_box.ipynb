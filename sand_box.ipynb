{
 "cells": [
  {
   "cell_type": "code",
   "execution_count": null,
   "metadata": {
    "collapsed": true
   },
   "outputs": [],
   "source": [
    "# for code:\n",
    "# security list - 5114764 5122569 5112271 1098920\n",
    "# TODO - verify if security num changed in ordernet (maybe trust fund was closed, maybe merged)\n",
    "# TODO - check how to run forever and from where...\n",
    "# TODO - make a website to publish\n",
    "# objects: security (num, curent value, baseline value, change), \n",
    "#          params (security list, %abs changed, who to notify, when to check, baseline date, today)\n",
    "\n",
    "# In general: \n",
    "# verify security numbers, what happend if closing"
   ]
  },
  {
   "cell_type": "code",
   "execution_count": 1,
   "metadata": {
    "collapsed": false
   },
   "outputs": [],
   "source": [
    "import splinter"
   ]
  },
  {
   "cell_type": "code",
   "execution_count": 17,
   "metadata": {
    "collapsed": true
   },
   "outputs": [],
   "source": [
    "browser = splinter.Browser()\n",
    "browser.visit('http://www.hon4u.com/Quotes/StartPage.aspx')\n",
    "browser.fill('qAuto2', '1098920') # fill in serach box the stock number. TODO: add loop on stocks\n",
    "button = browser.find_by_id('Button1')\n",
    "button.click()"
   ]
  },
  {
   "cell_type": "code",
   "execution_count": 16,
   "metadata": {
    "collapsed": false,
    "scrolled": true
   },
   "outputs": [],
   "source": [
    "def visit_stock_webpage():\n",
    "    browser = splinter.Browser()\n",
    "    browser.visit('http://www.hon4u.com/Quotes/StartPage.aspx')\n",
    "    browser.fill('qAuto2', '1098920') # fill in serach box the stock number. TODO: add loop on stocks\n",
    "    button = browser.find_by_id('Button1')\n",
    "    button.click()\n",
    "\n",
    "def get_stock_price():\n",
    "    price = browser.find_by_xpath('//*[@id=\"ActionName1\"]/table/tbody/tr/td[5]')\n",
    "    "
   ]
  },
  {
   "cell_type": "code",
   "execution_count": 69,
   "metadata": {
    "collapsed": false
   },
   "outputs": [],
   "source": [
    "price = browser.find_by_xpath('//*[@id=\"ActionName1\"]/table/tbody/tr/td[5]')"
   ]
  },
  {
   "cell_type": "code",
   "execution_count": 74,
   "metadata": {
    "collapsed": false
   },
   "outputs": [
    {
     "data": {
      "text/plain": [
       "1173"
      ]
     },
     "execution_count": 74,
     "metadata": {},
     "output_type": "execute_result"
    }
   ],
   "source": [
    "int(price.first.text)"
   ]
  },
  {
   "cell_type": "code",
   "execution_count": null,
   "metadata": {
    "collapsed": true
   },
   "outputs": [],
   "source": []
  }
 ],
 "metadata": {
  "kernelspec": {
   "display_name": "Python 2",
   "language": "python",
   "name": "python2"
  },
  "language_info": {
   "codemirror_mode": {
    "name": "ipython",
    "version": 2
   },
   "file_extension": ".py",
   "mimetype": "text/x-python",
   "name": "python",
   "nbconvert_exporter": "python",
   "pygments_lexer": "ipython2",
   "version": "2.7.11"
  }
 },
 "nbformat": 4,
 "nbformat_minor": 0
}
