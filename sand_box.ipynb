{
 "cells": [
  {
   "cell_type": "code",
   "execution_count": 1,
   "metadata": {
    "collapsed": false
   },
   "outputs": [],
   "source": [
    "import splinter\n",
    "import pickle\n",
    "import time\n",
    "import numpy as np"
   ]
  },
  {
   "cell_type": "code",
   "execution_count": 16,
   "metadata": {
    "collapsed": false,
    "scrolled": true
   },
   "outputs": [],
   "source": [
    "def visit_stock_webpage(stock_num):\n",
    "    browser = splinter.Browser()\n",
    "    browser.visit('http://www.hon4u.com/Quotes/StartPage.aspx')\n",
    "    browser.fill('qAuto2', stock_num) # fill in serach box the stock number. TODO: add loop on stocks\n",
    "    button = browser.find_by_id('Button1').click()\n",
    "    return browser\n",
    "\n",
    "def get_stock_price(browser):\n",
    "    price = browser.find_by_xpath('//*[@id=\"ActionName1\"]/table/tbody/tr/td[5]')\n",
    "    return int(price.first.text)\n",
    "\n",
    "def get_all_stock_prices(stock_list):\n",
    "    prices = dict()\n",
    "    for stock_num in stock_list:\n",
    "        browser = visit_stock_webpage(stock_num)\n",
    "        prices[stock_num] = get_stock_price(browser)\n",
    "        browser.quit()\n",
    "    return prices\n",
    "\n",
    "def save_baseline_data(prices):\n",
    "    today = time.strftime(\"%d%m%Y\")\n",
    "    pickle.dump(prices, open(\"baseline_\"+today+\".p\", \"wb\")\n",
    "                \n",
    "def get_baseline_data(baseline_date):\n",
    "    baseline_file = \"basline_\"+ baseline_date + \".p\"\n",
    "    return pickle.load( open(baseline_file, \"rb\" ))\n",
    "\n",
    "def check_changes(baseline_prices, current_prices, threshold):\n",
    "    changes = dict\n",
    "    for stock_num in stock_list:\n",
    "        base_price = baseline_prices[stock_num].value\n",
    "        curr_price = current_prices[stock_num].value\n",
    "        if np.abs(curr_price-base_price) > base_price*threshold:\n",
    "            changes[stock_num] = True\n",
    "        else:\n",
    "            changes[stock_num] = False\n",
    "    return changes\n",
    "\n",
    "def send_notification(changes):\n",
    "    if np.any(changes.values()):\n",
    "        pass # send email\n",
    "                \n",
    "                \n",
    "# params: \n",
    "stock_list    = ['5114764' '5122569' '5112271' '1098920']\n",
    "baseline_date = '11062016' \n",
    "threshold     = 25 # percentage change in price \n",
    "save_baseline = True\n",
    "\n",
    "# save baseline\n",
    "if save_baseline:\n",
    "    baseline_prices = get_all_stock_prices(stock_list)\n",
    "    save_baseline_data(baseline_prices)\n",
    "else:\n",
    "    baseline_prices = get_baseline_data(baseline_date)\n",
    "               \n",
    "# check for prices changes:\n",
    "current_prices = get_all_stock_prices(stock_list)\n",
    "prices_changes = check_changes(baseline_prices, current_prices, threshold)\n",
    "\n",
    "# send notification:\n",
    "send_notification(prices_changes)\n",
    "\n",
    "# TODO:\n",
    "# debug\n",
    "# add send notification function \n",
    "# add gold\n",
    "# check how to run forever and from where, how to set the frequency check parameter...\n",
    "# make a website to publish"
   ]
  }
 ],
 "metadata": {
  "kernelspec": {
   "display_name": "Python 2",
   "language": "python",
   "name": "python2"
  },
  "language_info": {
   "codemirror_mode": {
    "name": "ipython",
    "version": 2
   },
   "file_extension": ".py",
   "mimetype": "text/x-python",
   "name": "python",
   "nbconvert_exporter": "python",
   "pygments_lexer": "ipython2",
   "version": "2.7.11"
  }
 },
 "nbformat": 4,
 "nbformat_minor": 0
}
