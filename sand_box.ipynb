{
 "cells": [
  {
   "cell_type": "code",
   "execution_count": null,
   "metadata": {
    "collapsed": true
   },
   "outputs": [],
   "source": [
    "# for code:\n",
    "# security list - 5114764 5122569 5112271 1098920\n",
    "# TODO - verify if security num changed in ordernet (maybe trust fund was closed, maybe merged)\n",
    "# TODO - check how to run forever and from where...\n",
    "# TODO - make a website to publish\n",
    "# objects: security (num, curent value, baseline value, change), \n",
    "#          params (security list, %abs changed, who to notify, when to check, baseline date, today)\n",
    "\n",
    "# In general: \n",
    "# verify security numbers, what happend if closing"
   ]
  },
  {
   "cell_type": "code",
   "execution_count": 1,
   "metadata": {
    "collapsed": false
   },
   "outputs": [],
   "source": [
    "import splinter\n",
    "import pickle"
   ]
  },
  {
   "cell_type": "code",
   "execution_count": 16,
   "metadata": {
    "collapsed": false,
    "scrolled": true
   },
   "outputs": [],
   "source": [
    "def visit_stock_webpage(stock_num):\n",
    "    browser = splinter.Browser()\n",
    "    browser.visit('http://www.hon4u.com/Quotes/StartPage.aspx')\n",
    "    browser.fill('qAuto2', stock_num) # fill in serach box the stock number. TODO: add loop on stocks\n",
    "    button = browser.find_by_id('Button1').click()\n",
    "    return browser\n",
    "\n",
    "def get_stock_price(browser):\n",
    "    price = browser.find_by_xpath('//*[@id=\"ActionName1\"]/table/tbody/tr/td[5]')\n",
    "    return int(price.first.text)\n",
    "\n",
    "def get_all_stock_prices(stock_list)\n",
    "    prices = dict()\n",
    "    for stock_num in stock_list:\n",
    "        browser = visit_stock_webpage(stock_num)\n",
    "        prices[stock_num] = get_stock_price(browser)\n",
    "        browser.quit()\n",
    "\n",
    "def save_baseline_data(prices):\n",
    "    today = time.strftime(\"%d%m%Y\")\n",
    "    pickle.dump(prices, open(\"baseline_\"+today+\".p\", \"wb\")\n",
    "                \n",
    "def get_baseline_data(baseline_date):\n",
    "    baseline_file = \"basline_\"+ baseline_date + \".p\"\n",
    "    return pickle.load( open(baseline_file, \"rb\" ))\n",
    "\n",
    "def check_changes(basline_data):\n",
    "    pass\n",
    "\n",
    "\n",
    "# params:                \n",
    "baseline_date = '11062016' \n",
    "threshold     = 25 # percentage change in price \n",
    "                "
   ]
  },
  {
   "cell_type": "code",
   "execution_count": 75,
   "metadata": {
    "collapsed": true
   },
   "outputs": [],
   "source": [
    "import time"
   ]
  },
  {
   "cell_type": "code",
   "execution_count": 80,
   "metadata": {
    "collapsed": false
   },
   "outputs": [
    {
     "name": "stdout",
     "output_type": "stream",
     "text": [
      "11062016\n"
     ]
    }
   ],
   "source": [
    "print (time.strftime(\"%d%m%Y\"))"
   ]
  },
  {
   "cell_type": "code",
   "execution_count": null,
   "metadata": {
    "collapsed": true
   },
   "outputs": [],
   "source": []
  }
 ],
 "metadata": {
  "kernelspec": {
   "display_name": "Python 2",
   "language": "python",
   "name": "python2"
  },
  "language_info": {
   "codemirror_mode": {
    "name": "ipython",
    "version": 2
   },
   "file_extension": ".py",
   "mimetype": "text/x-python",
   "name": "python",
   "nbconvert_exporter": "python",
   "pygments_lexer": "ipython2",
   "version": "2.7.11"
  }
 },
 "nbformat": 4,
 "nbformat_minor": 0
}
